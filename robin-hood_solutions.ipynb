{
 "cells": [
  {
   "cell_type": "markdown",
   "metadata": {
    "deletable": true,
    "editable": true
   },
   "source": [
    "# Robin Hood:\n",
    "We are in a competition to win the archery contest in Sherwood. With our bow and arrows we shoot on a target and try to hit as close as possible to the center.\n",
    "\n",
    "The center of the target is represented by the values (0, 0) on the coordinate axes.\n",
    "\n",
    "![](/arrows.jpg)\n",
    "\n",
    "## Goals:\n",
    "* data structures: lists, sets, tuples\n",
    "* logical operators: if-elif-else\n",
    "* loop: while/for\n",
    "* minimum (optional sorting)\n",
    "\n",
    "## Description:\n",
    "In the 2-dimensional space, a point can be defined by a pair of values that correspond to the horizontal coordinate (x) and the vertical coordinate (y). The space can be divided into 4 zones (quadrants): Q1, Q2, Q3, Q4. Whose single point of union is the point (0, 0).\n",
    "\n",
    "If a point is in Q1 both its x coordinate and the y are positive. I leave a link to wikipedia to familiarize yourself with these quadrants.\n",
    "\n",
    "https://en.wikipedia.org/wiki/Cartesian_coordinate_system\n",
    "\n",
    "https://en.wikipedia.org/wiki/Euclidean_distance\n",
    "\n",
    "## Shots\n",
    "```\n",
    "points = [(4, 5), (-0, 2), (4, 7), (1, -3), (3, -2), (4, 5),\n",
    "          (3, 2), (5, 7), (-5, 7), (2, 2), (-4, 5), (0, -2),\n",
    "          (-4, 7), (-1, 3), (-3, 2), (-4, -5), (-3, 2),\n",
    "          (5, 7), (5, 7), (2, 2), (9, 9), (-8, -9)]\n",
    "```\n",
    "\n",
    "## Tasks\n",
    "1. Robin Hood is famous for hitting an arrow with another arrow. Did you get it?\n",
    "2. Calculate how many arrows have fallen in each quadrant.\n",
    "3. Find the point closest to the center. Calculate its distance to the center. \n",
    "4. If the target has a radius of 9, calculate the number of arrows that must be picked up in the forest."
   ]
  },
  {
   "cell_type": "code",
   "execution_count": 1,
   "metadata": {
    "collapsed": true,
    "deletable": true,
    "editable": true
   },
   "outputs": [],
   "source": [
    "# Variables\n",
    "\n",
    "points = [(4, 5), (-0, 2), (4, 7), (1, -3), (3, -2), (4, 5),\n",
    "          (3, 2), (5, 7), (-5, 7), (2, 2), (-4, 5), (0, -2),\n",
    "          (-4, 7), (-1, 3), (-3, 2), (-4, -5), (-3, 2),\n",
    "          (5, 7), (5, 7), (2, 2), (9, 9), (-8, -9)]"
   ]
  },
  {
   "cell_type": "markdown",
   "metadata": {},
   "source": [
    "1. Robin Hood is famous for hitting an arrow with another arrow. Did you get it?\n",
    "\n",
    "We define a function that detects if we have multiple pairs in a list which is equivalent to say that the player hits one arrow with another arrow."
   ]
  },
  {
   "cell_type": "code",
   "execution_count": 2,
   "metadata": {
    "collapsed": false,
    "deletable": true,
    "editable": true
   },
   "outputs": [],
   "source": [
    "# x is a list formed by tuples\n",
    "def robin_detector(x):\n",
    "    l=len(x)\n",
    "    robin_shoots=0\n",
    "    for i in range(l):\n",
    "        if x.count(x[i])>1:\n",
    "            robin_shoots= robin_shoots+1\n",
    "    if robin_shoots>0:\n",
    "        return print(\"You are like Robin Hood!\")\n",
    "    else:\n",
    "        return print(\"You are not like Robin Hood\")"
   ]
  },
  {
   "cell_type": "code",
   "execution_count": 3,
   "metadata": {
    "collapsed": false
   },
   "outputs": [
    {
     "name": "stdout",
     "output_type": "stream",
     "text": [
      "You are like Robin Hood!\n"
     ]
    }
   ],
   "source": [
    "robin_detector(points)"
   ]
  },
  {
   "cell_type": "markdown",
   "metadata": {},
   "source": [
    "2.Calculate how many arrows have fallen in each quadrant."
   ]
  },
  {
   "cell_type": "code",
   "execution_count": 4,
   "metadata": {
    "collapsed": false,
    "deletable": true,
    "editable": true
   },
   "outputs": [],
   "source": [
    "# x is a list\n",
    "# Qn_arrows is the number of arrows hitting the nth-quadrant\n",
    "def shoots(x):\n",
    "    l=len(x)\n",
    "    target_arrows=0\n",
    "    Q1_arrows=0\n",
    "    Q2_arrows=0\n",
    "    Q3_arrows=0\n",
    "    Q4_arrows=0\n",
    "    for i in range(l):\n",
    "        if x[i][0]==0 and x[i][1]==0:\n",
    "            target_arrows +=1\n",
    "        elif x[i][0]>0 and x[i][1]>0:\n",
    "            Q1_arrows +=1\n",
    "        elif x[i][0]<0 and x[i][1]>0:\n",
    "            Q2_arrows +=1\n",
    "        elif x[i][0]<0 and x[i][1]<0:\n",
    "            Q3_arrows +=1\n",
    "        elif x[i][0]>0 and x[i][1]<0:\n",
    "            Q4_arrows +=1\n",
    "    print(\"Target_shoots= %d, Q1_shoots= %d, Q2_shoots= %d, Q3_shoots= %d, Q4_shoots=%d\" %(target_arrows, Q1_arrows, Q2_arrows, Q3_arrows, Q4_arrows), sep=\"\\n\")"
   ]
  },
  {
   "cell_type": "code",
   "execution_count": 5,
   "metadata": {
    "collapsed": false
   },
   "outputs": [
    {
     "name": "stdout",
     "output_type": "stream",
     "text": [
      "Target_shoots= 0, Q1_shoots= 10, Q2_shoots= 6, Q3_shoots= 2, Q4_shoots=2\n"
     ]
    }
   ],
   "source": [
    "shoots(points)"
   ]
  },
  {
   "cell_type": "markdown",
   "metadata": {},
   "source": [
    "3.Find the point closest to the center. Calculate its distance to the center.\n",
    "\n",
    "The function norm_2d(list) calculates the length of a vector in the plane, i.e. the distance of the point to the origin\n"
   ]
  },
  {
   "cell_type": "code",
   "execution_count": 6,
   "metadata": {
    "collapsed": true
   },
   "outputs": [],
   "source": [
    "import math\n",
    "# x is a list of numbers\n",
    "def norm_2d(x):\n",
    "    return math.sqrt((x[0])**2 + (x[1])**2)"
   ]
  },
  {
   "cell_type": "markdown",
   "metadata": {},
   "source": [
    "Given a list x and an object a, this function gives a list of the indexes i in len(x) such that x[ i ]=a\n"
   ]
  },
  {
   "cell_type": "code",
   "execution_count": 7,
   "metadata": {
    "collapsed": true
   },
   "outputs": [],
   "source": [
    "def index_l(a, x):\n",
    "    if a not in x:\n",
    "        return print(\"%s is not an element in the list\" %a)\n",
    "    else:\n",
    "        b= [i for i, j in enumerate(x) if j == a]\n",
    "        return b"
   ]
  },
  {
   "cell_type": "markdown",
   "metadata": {},
   "source": [
    "The function values_indexes(x, v) returns a list which contains the elements of x with indexes in v"
   ]
  },
  {
   "cell_type": "code",
   "execution_count": 8,
   "metadata": {
    "collapsed": false,
    "deletable": true,
    "editable": true
   },
   "outputs": [],
   "source": [
    "# x, v are lists\n",
    "def values_indexes(x, v):\n",
    "    n=len(x)\n",
    "    m=len(v)\n",
    "    if n<m:\n",
    "        return print(\"Error: The length of the indexes is greater than the list\")\n",
    "    else:\n",
    "        return[x[i] for i in v]\n",
    "\n",
    "norm_points=[norm_2d(points[i]) for i in range(len(points))]\n",
    "min_norm= min(norm_points)  "
   ]
  },
  {
   "cell_type": "code",
   "execution_count": 9,
   "metadata": {
    "collapsed": false
   },
   "outputs": [
    {
     "name": "stdout",
     "output_type": "stream",
     "text": [
      "The closest points to the target are: [(0, 2), (0, -2)]\n"
     ]
    }
   ],
   "source": [
    "print(\"The closest points to the target are: {}\".format(values_indexes(points, index_l(min_norm, norm_points))))"
   ]
  },
  {
   "cell_type": "markdown",
   "metadata": {},
   "source": [
    "4.If the target has a radius of 9, calculate the number of arrows that must be picked up in the forest."
   ]
  },
  {
   "cell_type": "markdown",
   "metadata": {},
   "source": [
    "We assume that if the point (x, y) has distance 9, it hits the border of the target and therefore is falls close to it and not in the forest"
   ]
  },
  {
   "cell_type": "code",
   "execution_count": 10,
   "metadata": {
    "collapsed": false,
    "deletable": true,
    "editable": true,
    "scrolled": true
   },
   "outputs": [
    {
     "name": "stdout",
     "output_type": "stream",
     "text": [
      "2 arrows should be picked up in the forest\n"
     ]
    }
   ],
   "source": [
    "arrows_forest=[]\n",
    "for i in range(len(norm_points)):\n",
    "    if norm_points[i] >9:\n",
    "        arrows_forest.append(i)\n",
    "    else:\n",
    "        continue\n",
    "print(\"%d arrows should be picked up in the forest\" %len(arrows_forest))"
   ]
  },
  {
   "cell_type": "code",
   "execution_count": null,
   "metadata": {
    "collapsed": true
   },
   "outputs": [],
   "source": []
  }
 ],
 "metadata": {
  "kernelspec": {
   "display_name": "Python 3",
   "language": "python",
   "name": "python3"
  },
  "language_info": {
   "codemirror_mode": {
    "name": "ipython",
    "version": 3
   },
   "file_extension": ".py",
   "mimetype": "text/x-python",
   "name": "python",
   "nbconvert_exporter": "python",
   "pygments_lexer": "ipython3",
   "version": "3.5.2"
  }
 },
 "nbformat": 4,
 "nbformat_minor": 2
}
