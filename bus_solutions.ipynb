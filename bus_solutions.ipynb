{
 "cells": [
  {
   "cell_type": "markdown",
   "metadata": {
    "deletable": true,
    "editable": true
   },
   "source": [
    "# Bus\n",
    "\n",
    "This bus has a passenger entry and exit control system to monitor the number of occupants it carries and thus detect when there is too high a capacity.\n",
    "\n",
    "At each stop the entry and exit of passengers is represented by a tuple consisting of two integer numbers.\n",
    "```\n",
    "bus_stop = (in, out)\n",
    "```\n",
    "The succession of stops is represented by a list of these tuples.\n",
    "```\n",
    "stops = [(in1, out1), (in2, out2), (in3, out3), (in4, out4)]\n",
    "```\n",
    "\n",
    "## Goals:\n",
    "* lists, tuples\n",
    "* while/for loops\n",
    "* minimum, maximum, length\n",
    "* average, standard deviation\n",
    "\n",
    "## Tasks\n",
    "1. Calculate the number of stops.\n",
    "2. Assign to a variable a list whose elements are the number of passengers at each stop (in-out),\n",
    "3. Find the maximum occupation of the bus.\n",
    "4. Calculate the average occupation. And the standard deviation.\n"
   ]
  },
  {
   "cell_type": "markdown",
   "metadata": {},
   "source": [
    "# Solution"
   ]
  },
  {
   "cell_type": "code",
   "execution_count": 1,
   "metadata": {
    "collapsed": true,
    "deletable": true,
    "editable": true
   },
   "outputs": [],
   "source": [
    "# variables\n",
    "stops=[(12, 0), (4, 5), (7, 2), (2, 1), (0,3), (0,5), (0,1)]"
   ]
  },
  {
   "cell_type": "markdown",
   "metadata": {},
   "source": [
    "1. Calculate the number of stops.\n",
    "\n",
    "We define a function giving the length of a list which in this case corresponds with the number of stops."
   ]
  },
  {
   "cell_type": "code",
   "execution_count": 3,
   "metadata": {
    "collapsed": false,
    "deletable": true,
    "editable": true
   },
   "outputs": [
    {
     "name": "stdout",
     "output_type": "stream",
     "text": [
      "The number of stops is 7\n"
     ]
    }
   ],
   "source": [
    "# x is a list \n",
    "def n_stops(x):\n",
    "    return len(x)\n",
    "\n",
    "print(\"The number of stops is %d\" % n_stops(stops))\n"
   ]
  },
  {
   "cell_type": "markdown",
   "metadata": {},
   "source": [
    "2.Assign a variable a list whose elements are the number of passengers in each stop.\n",
    "\n",
    "The function n_pass() give us a list containing the current number of passengers in the bus at each stop."
   ]
  },
  {
   "cell_type": "code",
   "execution_count": 4,
   "metadata": {
    "collapsed": false,
    "deletable": true,
    "editable": true
   },
   "outputs": [],
   "source": [
    "# Each item depends on the previous item in the list + in - out.\n",
    "\n",
    "def n_pass(x):\n",
    "    m=[]\n",
    "    j = n_stops(x)\n",
    "    for i in range(j):\n",
    "        if i==0:\n",
    "            m.append(x[i][0]-x[i][1])\n",
    "        elif i>0:\n",
    "            m.append(m[i-1] + x[i][0]-x[i][1])\n",
    "    return m"
   ]
  },
  {
   "cell_type": "code",
   "execution_count": 5,
   "metadata": {
    "collapsed": false,
    "deletable": true,
    "editable": true
   },
   "outputs": [
    {
     "data": {
      "text/plain": [
       "[12, 11, 16, 17, 14, 9, 8]"
      ]
     },
     "execution_count": 5,
     "metadata": {},
     "output_type": "execute_result"
    }
   ],
   "source": [
    "n_pass(stops)"
   ]
  },
  {
   "cell_type": "markdown",
   "metadata": {},
   "source": [
    "3.Find the maximum occupation of the bus."
   ]
  },
  {
   "cell_type": "code",
   "execution_count": 6,
   "metadata": {
    "collapsed": false,
    "deletable": true,
    "editable": true
   },
   "outputs": [],
   "source": [
    "def max_occ(x):\n",
    "    return max(n_pass(x))"
   ]
  },
  {
   "cell_type": "code",
   "execution_count": 7,
   "metadata": {
    "collapsed": false,
    "deletable": true,
    "editable": true
   },
   "outputs": [
    {
     "data": {
      "text/plain": [
       "17"
      ]
     },
     "execution_count": 7,
     "metadata": {},
     "output_type": "execute_result"
    }
   ],
   "source": [
    "max_occ(stops)"
   ]
  },
  {
   "cell_type": "markdown",
   "metadata": {},
   "source": [
    "4.Calculate the average occupation and the standard deviation."
   ]
  },
  {
   "cell_type": "markdown",
   "metadata": {},
   "source": [
    "Reusing the functions defined in snail-and-well lab:"
   ]
  },
  {
   "cell_type": "code",
   "execution_count": 15,
   "metadata": {
    "collapsed": false,
    "deletable": true,
    "editable": true
   },
   "outputs": [],
   "source": [
    "# x is a list\n",
    "def mean(x):\n",
    "    if len(x)==0:\n",
    "        return(print(\"The list should be non-empty\"))\n",
    "    else:\n",
    "        return(sum(x)/len(x))\n",
    "\n",
    "import math\n",
    "\n",
    "#List of diferences between each element of a list and its mean\n",
    "def de_mean(x):\n",
    "    return[(i-mean(x))**2 for i in x]\n",
    "\n",
    "#variance of a list\n",
    "def var(x):\n",
    "    return (mean(de_mean(x)))\n",
    "\n",
    "#Standard deviation of a list\n",
    "def s_dev(x):\n",
    "    return (math.sqrt(var(x)))    \n"
   ]
  },
  {
   "cell_type": "code",
   "execution_count": 17,
   "metadata": {
    "collapsed": false,
    "deletable": true,
    "editable": true
   },
   "outputs": [
    {
     "name": "stdout",
     "output_type": "stream",
     "text": [
      "The average occupation of the bus is 12 people and the standard deviation is 3.16\n"
     ]
    }
   ],
   "source": [
    "print(\"The average occupation of the bus is %d people and the standard deviation is %.2f\" % (mean(n_pass(stops)), s_dev(n_pass(stops))))"
   ]
  },
  {
   "cell_type": "code",
   "execution_count": null,
   "metadata": {
    "collapsed": true,
    "deletable": true,
    "editable": true
   },
   "outputs": [],
   "source": []
  }
 ],
 "metadata": {
  "kernelspec": {
   "display_name": "Python 3",
   "language": "python",
   "name": "python3"
  },
  "language_info": {
   "codemirror_mode": {
    "name": "ipython",
    "version": 3
   },
   "file_extension": ".py",
   "mimetype": "text/x-python",
   "name": "python",
   "nbconvert_exporter": "python",
   "pygments_lexer": "ipython3",
   "version": "3.5.2"
  }
 },
 "nbformat": 4,
 "nbformat_minor": 2
}
