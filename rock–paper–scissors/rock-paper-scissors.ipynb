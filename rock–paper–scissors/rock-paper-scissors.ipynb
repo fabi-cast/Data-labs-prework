{
 "cells": [
  {
   "cell_type": "markdown",
   "metadata": {
    "deletable": true,
    "editable": true
   },
   "source": [
    "# Rock Paper Scissors\n",
    "\n",
    "Let's play the famous game against our computer.\n",
    "\n",
    "https://en.wikipedia.org/wiki/Rock%E2%80%93paper%E2%80%93scissors\n",
    "\n",
    "The use of functions is recommended\n",
    "\n",
    "## Goals\n",
    "1. Use of loop\n",
    "2. Data capture by console\n",
    "3. Use if-elif-else\n",
    "4. Use of try-except\n",
    "5. Definition of functions. Modular programming\n",
    "6. Logical operators.\n",
    "7. Print\n",
    "8. Import modules"
   ]
  },
  {
   "cell_type": "markdown",
   "metadata": {},
   "source": [
    "# Solution"
   ]
  },
  {
   "cell_type": "markdown",
   "metadata": {},
   "source": [
    "First we import the choice function of the module random, and also assign to a list the 3 possible options: 'stone', 'paper' or 'scissors'"
   ]
  },
  {
   "cell_type": "code",
   "execution_count": 1,
   "metadata": {
    "collapsed": true,
    "deletable": true,
    "editable": true,
    "jupyter": {
     "outputs_hidden": true
    }
   },
   "outputs": [],
   "source": [
    "import math\n",
    "from random import choice\n",
    "\n",
    "opt=['stone', 'paper', 'scissors']"
   ]
  },
  {
   "cell_type": "markdown",
   "metadata": {},
   "source": [
    " We create a function asking for a desired number of rounds. This number should be an odd number:"
   ]
  },
  {
   "cell_type": "code",
   "execution_count": 2,
   "metadata": {
    "collapsed": true,
    "jupyter": {
     "outputs_hidden": true
    }
   },
   "outputs": [],
   "source": [
    "def max_rounds(M):\n",
    "    N=int(input(\"Enter a number odd of rounds desired:\"))\n",
    "    while N%2==0:\n",
    "        N= int(input(\"Number even! Enter a number odd of rounds desired:\"))\n",
    "    return N"
   ]
  },
  {
   "cell_type": "markdown",
   "metadata": {},
   "source": [
    "Then we define a function that randomly returns one of the 3 options. This will correspond to the play of the\n",
    "the machine and it is totally random.\n"
   ]
  },
  {
   "cell_type": "code",
   "execution_count": 3,
   "metadata": {
    "collapsed": true,
    "jupyter": {
     "outputs_hidden": true
    }
   },
   "outputs": [],
   "source": [
    "# Define a function that randomly returns one of the 3 options.\n",
    "\n",
    "def machine_game(x):\n",
    "    if x in opt:\n",
    "        return choice(opt)    "
   ]
  },
  {
   "cell_type": "markdown",
   "metadata": {},
   "source": [
    "Define a function that asks your choice: 'stone', 'paper' or 'scissors' If it is not stone, paper or scissors keep asking until it is. This function has as an argument any integer or string. It asks to the user to input a value\n"
   ]
  },
  {
   "cell_type": "code",
   "execution_count": 4,
   "metadata": {
    "collapsed": true,
    "jupyter": {
     "outputs_hidden": true
    }
   },
   "outputs": [],
   "source": [
    "def user_game(M):\n",
    "    a= input(\"'stone', 'paper' or 'scissors'?\")\n",
    "    while a not in opt:\n",
    "        a= input(\"'stone', 'paper' or 'scissors'?\")\n",
    "    return a"
   ]
  },
  {
   "cell_type": "markdown",
   "metadata": {},
   "source": [
    "The function combat_points(x,y) resolves a combat. Returns 0 if there is a tie, 1 if the machine wins, 2 if the human player wins."
   ]
  },
  {
   "cell_type": "code",
   "execution_count": 5,
   "metadata": {
    "collapsed": true,
    "jupyter": {
     "outputs_hidden": true
    }
   },
   "outputs": [],
   "source": [
    "def combat_points(x,y):\n",
    "    if x==y:\n",
    "        return 0\n",
    "    elif (x=='stone' and y=='scissors') or (x=='paper' and y=='stone') or (x=='scissors' and y=='paper'):\n",
    "        return 1\n",
    "    else:\n",
    "        return 2"
   ]
  },
  {
   "cell_type": "markdown",
   "metadata": {},
   "source": [
    "The function  combat( ) shows the choice of each player and also return the points accumulated up to the stage n of the game."
   ]
  },
  {
   "cell_type": "code",
   "execution_count": 6,
   "metadata": {
    "collapsed": true,
    "jupyter": {
     "outputs_hidden": true
    }
   },
   "outputs": [],
   "source": [
    "# The argument for this function is an integer n and a list r of length 2\n",
    "# the output is a list of length 2 containing the accumulated points by the human and the machine\n",
    "\n",
    "def combat(n, r):\n",
    "    a= user_game(n)\n",
    "    b= machine_game(a)\n",
    "    h1=r[0]\n",
    "    m1=r[1]\n",
    "    print(\"My choice: %s\" % b)\n",
    "    p = combat_points(a, b)\n",
    "    if p== 0:\n",
    "        print(\"This round has a Tie\")\n",
    "        return [h1,m1]\n",
    "    elif p==1:\n",
    "        print(\"You won this round\")\n",
    "        return [h1+1,m1]\n",
    "    elif p==2:\n",
    "        print(\"I won this round\")\n",
    "        return [h1,m1+1]    "
   ]
  },
  {
   "cell_type": "markdown",
   "metadata": {},
   "source": [
    "The function points_pr( ) shows the state of the game. Its argument is a list x, which will be the list of accumulated points"
   ]
  },
  {
   "cell_type": "code",
   "execution_count": 7,
   "metadata": {
    "collapsed": true,
    "jupyter": {
     "outputs_hidden": true
    }
   },
   "outputs": [],
   "source": [
    "def points_pr(x):\n",
    "    print(\"Your points= %d\" %x[0])\n",
    "    print(\"My points= %d\" % x[1])\n",
    "    if x[0]> x[1]:\n",
    "        print(\"Hooman is winning\")\n",
    "    elif x[0]==x[1]:\n",
    "        print(\"We have a tie\")\n",
    "    else:\n",
    "        print(\"Machine is winning\")        "
   ]
  },
  {
   "cell_type": "markdown",
   "metadata": {},
   "source": [
    "Now, the function game( ) has as argument any variable for initialize the game. It creates a loop that iterates while no player reaches the minimum of wins necessary to win. Inside the loop solves the play of the machine and ask the player's. Compare them and update the value of the variables that accumulate the wins of each player."
   ]
  },
  {
   "cell_type": "code",
   "execution_count": 8,
   "metadata": {
    "collapsed": true,
    "jupyter": {
     "outputs_hidden": true
    }
   },
   "outputs": [],
   "source": [
    "def game(M):\n",
    "    N=max_rounds(M)\n",
    "    N_win= math.ceil(2*N/3)\n",
    "    points=[0,0]\n",
    "    for i in range(N):\n",
    "        p1= combat(i,points)\n",
    "        points_pr(p1)\n",
    "        if points[0]== N_win and points[1]< N_win:\n",
    "            return print(\"Hooman is the winner at stage %d\" % i)\n",
    "            break\n",
    "        elif points[0]< N_win and points[1]==N_win:\n",
    "            return print(\"Machine is the winner at stage %d\" %i)\n",
    "            break\n",
    "        else:\n",
    "            points = p1\n",
    "    if points[0]>points[1]:\n",
    "        return print(\"Hooman is the winner of the game at %d stages\" %N)\n",
    "    if points[0] < points[1]:\n",
    "        return print(\"Machine is the winner of the game at %d stages\" %N)\n",
    "    if points[0]== points[1]:\n",
    "        return print(\"Tie at %d stages\" %N)"
   ]
  },
  {
   "cell_type": "markdown",
   "metadata": {},
   "source": [
    "## Output"
   ]
  },
  {
   "cell_type": "code",
   "execution_count": 9,
   "metadata": {
    "collapsed": false,
    "jupyter": {
     "outputs_hidden": false
    }
   },
   "outputs": [
    {
     "name": "stdout",
     "output_type": "stream",
     "text": [
      "Enter a number odd of rounds desired:2\n",
      "Number even! Enter a number odd of rounds desired:7\n",
      "'stone', 'paper' or 'scissors'?stone\n",
      "My choice: stone\n",
      "This round has a Tie\n",
      "Your points= 0\n",
      "My points= 0\n",
      "We have a tie\n",
      "'stone', 'paper' or 'scissors'?paper\n",
      "My choice: scissors\n",
      "I won this round\n",
      "Your points= 0\n",
      "My points= 1\n",
      "Machine is winning\n",
      "'stone', 'paper' or 'scissors'?paper\n",
      "My choice: stone\n",
      "You won this round\n",
      "Your points= 1\n",
      "My points= 1\n",
      "We have a tie\n",
      "'stone', 'paper' or 'scissors'?scissors\n",
      "My choice: paper\n",
      "You won this round\n",
      "Your points= 2\n",
      "My points= 1\n",
      "Hooman is winning\n",
      "'stone', 'paper' or 'scissors'?stone\n",
      "My choice: scissors\n",
      "You won this round\n",
      "Your points= 3\n",
      "My points= 1\n",
      "Hooman is winning\n",
      "'stone', 'paper' or 'scissors'?paper\n",
      "My choice: stone\n",
      "You won this round\n",
      "Your points= 4\n",
      "My points= 1\n",
      "Hooman is winning\n",
      "'stone', 'paper' or 'scissors'?scissors\n",
      "My choice: paper\n",
      "You won this round\n",
      "Your points= 5\n",
      "My points= 1\n",
      "Hooman is winning\n",
      "Hooman is the winner of the game at 7 stages\n"
     ]
    }
   ],
   "source": [
    "game(0)"
   ]
  },
  {
   "cell_type": "markdown",
   "metadata": {
    "deletable": true,
    "editable": true
   },
   "source": [
    "# Bonus: Stone, paper, scissors, lizard, spock\n",
    "\n",
    "Now the improvement begins.\n",
    "\n",
    "![](images/rpsls.jpg)\n",
    "\n",
    "\n",
    "http://www.samkass.com/theories/RPSSL.html\n",
    "\n",
    "You are asked to impliment some improvements with respect to the simple previous game. In addition, the number of games (which must be ODD) will be requested per console until a valid number is entered.\n",
    "\n",
    "Improvements:\n",
    "* 5 options: stone, paper, scissors, lizard, spock\n",
    "* The number of games is requested per console\n",
    "Tip: Reuse code that you already use. If you have programmed intelligently, the bonus are simple modifications to the original game."
   ]
  },
  {
   "cell_type": "markdown",
   "metadata": {},
   "source": [
    "If we did not import the module math and function choice from random yet, we do it now. Also, as before we assign a list with the new 5 possible options"
   ]
  },
  {
   "cell_type": "markdown",
   "metadata": {},
   "source": [
    "# Solution Bonus "
   ]
  },
  {
   "cell_type": "code",
   "execution_count": 10,
   "metadata": {
    "collapsed": true,
    "jupyter": {
     "outputs_hidden": true
    }
   },
   "outputs": [],
   "source": [
    "import math\n",
    "from random import choice\n",
    "\n",
    "opt2=['stone', 'paper', 'scissors', 'lizard', 'spock']\n"
   ]
  },
  {
   "cell_type": "markdown",
   "metadata": {},
   "source": [
    "The maximum number of games: is requested per console. So, we used simply use the same function max_rounds() defined above.\n"
   ]
  },
  {
   "cell_type": "markdown",
   "metadata": {},
   "source": [
    "The number of games a player must win to win will be N_win= math.ceil(2*N/3), as before"
   ]
  },
  {
   "cell_type": "markdown",
   "metadata": {},
   "source": [
    "Now, we define a function that randomly returns one of the 5 options. Just a variation of machine_game( )."
   ]
  },
  {
   "cell_type": "code",
   "execution_count": 11,
   "metadata": {
    "collapsed": true,
    "jupyter": {
     "outputs_hidden": true
    }
   },
   "outputs": [],
   "source": [
    "# This will correspond to the play of the machine. Totally random.\n",
    "\n",
    "def machine_game_2(x):\n",
    "    if x in opt2:\n",
    "        return choice(opt2) "
   ]
  },
  {
   "cell_type": "markdown",
   "metadata": {},
   "source": [
    "We define a function that asks your choice between the 5 possible options in opt2. If it is not valid, keep asking until it is valid."
   ]
  },
  {
   "cell_type": "code",
   "execution_count": 12,
   "metadata": {
    "collapsed": true,
    "jupyter": {
     "outputs_hidden": true
    }
   },
   "outputs": [],
   "source": [
    "def user_game_2(M):\n",
    "    a= input(\"'stone', 'paper', 'scissors', 'lizard' or 'spock'?\")\n",
    "    while a not in opt2:\n",
    "        a= input(\"'stone', 'paper', 'scissors', 'lizard' or 'spock'?\")\n",
    "    return a       "
   ]
  },
  {
   "cell_type": "markdown",
   "metadata": {},
   "source": [
    "Again, we define a function combat_points_2( , ) that resolves a combat. It is just a variation of combat_points( , )."
   ]
  },
  {
   "cell_type": "code",
   "execution_count": 13,
   "metadata": {
    "collapsed": true,
    "jupyter": {
     "outputs_hidden": true
    }
   },
   "outputs": [],
   "source": [
    "# Now there are more options\n",
    " \n",
    "def combat_points_2(x,y):\n",
    "    if x==y:\n",
    "        return 0\n",
    "    elif (x=='stone' and y in {'scissors','lizard'}) or (x=='paper' and y in {'stone','spock'}) or (x=='scissors' and y in {'paper', 'lizard'}) or (x=='spock' and y in {'stone', 'scissors'}) or (x=='lizard' and y in {'spock', 'paper'}):\n",
    "        return 1\n",
    "    else:\n",
    "        return 2"
   ]
  },
  {
   "cell_type": "markdown",
   "metadata": {},
   "source": [
    "The function combat_2( , ) shows the choice of each player and the state of the game."
   ]
  },
  {
   "cell_type": "code",
   "execution_count": 14,
   "metadata": {
    "collapsed": true,
    "jupyter": {
     "outputs_hidden": true
    }
   },
   "outputs": [],
   "source": [
    "# n is an integer and r is a list of length 2\n",
    "\n",
    "def combat_2(n, r):\n",
    "    a= user_game_2(n)\n",
    "    b= machine_game_2(a)\n",
    "    h1=r[0]\n",
    "    m1=r[1]\n",
    "    print(\"My choice: %s\" % b)\n",
    "    p = combat_points_2(a, b)\n",
    "    if p== 0:\n",
    "        print(\"This round has a Tie\")\n",
    "        return [h1,m1]\n",
    "    elif p==1:\n",
    "        print(\"You won this round\")\n",
    "        return [h1+1,m1]\n",
    "    elif p==2:\n",
    "        print(\"I won this round\")\n",
    "        return [h1,m1+1]"
   ]
  },
  {
   "cell_type": "markdown",
   "metadata": {},
   "source": [
    "For seeing the status of the game we use the same function as before: points_pr(x)"
   ]
  },
  {
   "cell_type": "markdown",
   "metadata": {},
   "source": [
    "Lastly, we define the function game_2( ) which initialize the game."
   ]
  },
  {
   "cell_type": "code",
   "execution_count": 15,
   "metadata": {
    "collapsed": true,
    "deletable": true,
    "editable": true,
    "jupyter": {
     "outputs_hidden": true
    }
   },
   "outputs": [],
   "source": [
    "# This function has as argument any integer or string for initialize the game        \n",
    "def game_2(M):\n",
    "    N=max_rounds(M)\n",
    "    N_win= math.ceil(2*N/3)\n",
    "    points=[0,0]\n",
    "    for i in range(N):\n",
    "        p1= combat_2(i,points)\n",
    "        points_pr(p1)\n",
    "        if points[0]== N_win and points[1]< N_win:\n",
    "            return print(\"Hooman is the winner at stage %d\" % i)\n",
    "            break\n",
    "        elif points[0]< N_win and points[1]==N_win:\n",
    "            return print(\"Machine is the winner at stage %d\" %i)\n",
    "            break\n",
    "        else:\n",
    "            points = p1\n",
    "    if points[0]>points[1]:\n",
    "        return print(\"Hooman is the winner of the game at %d stages\" %N)\n",
    "    if points[0] < points[1]:\n",
    "        return print(\"Machine is the winner of the game at %d stages\" %N)\n",
    "    if points[0]== points[1]:\n",
    "        return print(\"Tie at %d stages\" %N)\n",
    "\n"
   ]
  },
  {
   "cell_type": "markdown",
   "metadata": {},
   "source": [
    "## Output"
   ]
  },
  {
   "cell_type": "code",
   "execution_count": 16,
   "metadata": {
    "collapsed": false,
    "deletable": true,
    "editable": true,
    "jupyter": {
     "outputs_hidden": false
    }
   },
   "outputs": [
    {
     "name": "stdout",
     "output_type": "stream",
     "text": [
      "Enter a number odd of rounds desired:9\n",
      "'stone', 'paper', 'scissors', 'lizard' or 'spock'?lizard\n",
      "My choice: spock\n",
      "You won this round\n",
      "Your points= 1\n",
      "My points= 0\n",
      "Hooman is winning\n",
      "'stone', 'paper', 'scissors', 'lizard' or 'spock'?spock\n",
      "My choice: paper\n",
      "I won this round\n",
      "Your points= 1\n",
      "My points= 1\n",
      "We have a tie\n",
      "'stone', 'paper', 'scissors', 'lizard' or 'spock'?paper\n",
      "My choice: lizard\n",
      "I won this round\n",
      "Your points= 1\n",
      "My points= 2\n",
      "Machine is winning\n",
      "'stone', 'paper', 'scissors', 'lizard' or 'spock'?scissors\n",
      "My choice: paper\n",
      "You won this round\n",
      "Your points= 2\n",
      "My points= 2\n",
      "We have a tie\n",
      "'stone', 'paper', 'scissors', 'lizard' or 'spock'?lizard\n",
      "My choice: paper\n",
      "You won this round\n",
      "Your points= 3\n",
      "My points= 2\n",
      "Hooman is winning\n",
      "'stone', 'paper', 'scissors', 'lizard' or 'spock'?stone\n",
      "My choice: spock\n",
      "I won this round\n",
      "Your points= 3\n",
      "My points= 3\n",
      "We have a tie\n",
      "'stone', 'paper', 'scissors', 'lizard' or 'spock'?paper\n",
      "My choice: stone\n",
      "You won this round\n",
      "Your points= 4\n",
      "My points= 3\n",
      "Hooman is winning\n",
      "'stone', 'paper', 'scissors', 'lizard' or 'spock'?scissors\n",
      "My choice: scissors\n",
      "This round has a Tie\n",
      "Your points= 4\n",
      "My points= 3\n",
      "Hooman is winning\n",
      "'stone', 'paper', 'scissors', 'lizard' or 'spock'?paper\n",
      "My choice: paper\n",
      "This round has a Tie\n",
      "Your points= 4\n",
      "My points= 3\n",
      "Hooman is winning\n",
      "Hooman is the winner of the game at 9 stages\n"
     ]
    }
   ],
   "source": [
    "game_2(0)"
   ]
  },
  {
   "cell_type": "code",
   "execution_count": null,
   "metadata": {
    "collapsed": true,
    "jupyter": {
     "outputs_hidden": true
    }
   },
   "outputs": [],
   "source": []
  }
 ],
 "metadata": {
  "kernelspec": {
   "display_name": "Python 3",
   "language": "python",
   "name": "python3"
  },
  "language_info": {
   "codemirror_mode": {
    "name": "ipython",
    "version": 3
   },
   "file_extension": ".py",
   "mimetype": "text/x-python",
   "name": "python",
   "nbconvert_exporter": "python",
   "pygments_lexer": "ipython3",
   "version": "3.7.6"
  }
 },
 "nbformat": 4,
 "nbformat_minor": 4
}
